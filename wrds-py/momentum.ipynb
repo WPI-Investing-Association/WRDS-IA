{
 "cells": [
  {
   "cell_type": "markdown",
   "metadata": {},
   "source": [
    "This is made for testing Momentum Strategies. First, let's install dependencies\n"
   ]
  },
  {
   "cell_type": "code",
   "execution_count": 3,
   "metadata": {},
   "outputs": [],
   "source": [
    "import pandas as pd\n",
    "import numpy as np\n",
    "import datetime as dt\n",
    "from scipy import stats\n",
    "import matplotlib.pyplot as plt\n",
    "from pandas.tseries.offsets import *\n",
    "import wrds"
   ]
  },
  {
   "cell_type": "markdown",
   "metadata": {},
   "source": [
    "Next, let's connect to WRDS"
   ]
  },
  {
   "cell_type": "code",
   "execution_count": 2,
   "metadata": {},
   "outputs": [
    {
     "name": "stdout",
     "output_type": "stream",
     "text": [
      "WRDS recommends setting up a .pgpass file.\n",
      "Created .pgpass file successfully.\n",
      "You can create this file yourself at any time with the create_pgpass_file() function.\n",
      "Loading library list...\n",
      "Done\n"
     ]
    }
   ],
   "source": [
    "conn = wrds.Connection()"
   ]
  },
  {
   "cell_type": "markdown",
   "metadata": {},
   "source": []
  },
  {
   "cell_type": "code",
   "execution_count": 5,
   "metadata": {},
   "outputs": [],
   "source": [
    "msf = conn.raw_sql(\"\"\"\n",
    "                      select a.permno, a.date, \n",
    "                      a.ret, a.shrout, a.prc \n",
    "                      from crsp.msf as a\n",
    "                      where a.date >= '12/01/1999'\n",
    "                      \"\"\", date_cols=['date'])\n",
    "\n",
    "msf = msf[(msf['prc'].notna()) & (msf['ret'].notna()) & (msf['shrout'].notna())]\n",
    "\n",
    "msf['permno'] = msf['permno'].astype(int)\n",
    "msf['size'] = msf['shrout'] * msf['prc'].abs()\n",
    "msf['year'] = msf['date'].dt.year\n",
    "msf['month'] = msf['date'].dt.month\n",
    "\n",
    "# create msf_dec\n",
    "msf_dec = msf[msf['month']==12][['date','permno','year','size']]\n",
    "\n",
    "# create msf_ls\n",
    "msf_ls = msf.sort_values(['permno', 'date'])\n",
    "msf_ls['year_prev'] = msf_ls['year']-1\n",
    "msf_ls['size_lag'] = msf_ls.groupby('permno')['size'].shift(1)\n",
    "msf_ls['size_lag'] = np.where(msf_ls['size_lag'].isna(),\\\n",
    "msf_ls['size']/(1+msf_ls['ret']), msf_ls['size_lag'])\n",
    "\n"
   ]
  },
  {
   "cell_type": "markdown",
   "metadata": {},
   "source": [
    "See whats in MSF"
   ]
  },
  {
   "cell_type": "code",
   "execution_count": 6,
   "metadata": {},
   "outputs": [
    {
     "name": "stdout",
     "output_type": "stream",
     "text": [
      "        permno       date       ret     shrout        prc          size  year  \\\n",
      "0        10001 1999-12-31 -0.004188     2450.0   -8.50000  2.082500e+04  1999   \n",
      "1        10002 1999-12-31 -0.123036     7729.0   12.18750  9.419719e+04  1999   \n",
      "2        10009 1999-12-31 -0.202703     2307.0   14.75000  3.402825e+04  1999   \n",
      "3        10012 1999-12-31  0.107759    19274.0    8.03125  1.547943e+05  1999   \n",
      "4        10016 1999-12-31 -0.084849    17869.0   18.87500  3.372774e+05  1999   \n",
      "...        ...        ...       ...        ...        ...           ...   ...   \n",
      "176674   93426 2023-12-29  0.117416    12510.0   34.07000  4.262157e+05  2023   \n",
      "176675   93427 2023-12-29  0.175602    36331.0  190.33000  6.914879e+06  2023   \n",
      "176676   93429 2023-12-29 -0.019924   105556.0  178.56000  1.884808e+07  2023   \n",
      "176677   93434 2023-12-29  0.065449    43039.0    0.70000  3.012730e+04  2023   \n",
      "176678   93436 2023-12-29  0.034988  3178921.0  248.48000  7.898983e+08  2023   \n",
      "\n",
      "        month  \n",
      "0          12  \n",
      "1          12  \n",
      "2          12  \n",
      "3          12  \n",
      "4          12  \n",
      "...       ...  \n",
      "176674     12  \n",
      "176675     12  \n",
      "176676     12  \n",
      "176677     12  \n",
      "176678     12  \n",
      "\n",
      "[2107719 rows x 8 columns]\n"
     ]
    }
   ],
   "source": [
    "print(msf)"
   ]
  }
 ],
 "metadata": {
  "kernelspec": {
   "display_name": "wrds-py",
   "language": "python",
   "name": "python3"
  },
  "language_info": {
   "codemirror_mode": {
    "name": "ipython",
    "version": 3
   },
   "file_extension": ".py",
   "mimetype": "text/x-python",
   "name": "python",
   "nbconvert_exporter": "python",
   "pygments_lexer": "ipython3",
   "version": "3.12.4"
  }
 },
 "nbformat": 4,
 "nbformat_minor": 2
}
